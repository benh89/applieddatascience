{
 "cells": [
  {
   "cell_type": "markdown",
   "metadata": {},
   "source": [
    "In this project, we will build a regression (predictive) model using Keras to model the data (create a neural network and build & train a model) about concrete compressive strength. The data can be found at: https://cocl.us/concrete_data."
   ]
  },
  {
   "cell_type": "markdown",
   "metadata": {
    "button": false,
    "new_sheet": false,
    "run_control": {
     "read_only": false
    }
   },
   "source": [
    "Let's start by importing the related libraries as needed."
   ]
  },
  {
   "cell_type": "code",
   "execution_count": 4,
   "metadata": {
    "button": false,
    "new_sheet": false,
    "run_control": {
     "read_only": false
    }
   },
   "outputs": [],
   "source": [
    "# import the following libraries\n",
    "import pandas as pd\n",
    "import numpy as np\n",
    "import keras\n",
    "from keras.models import Sequential\n",
    "from keras.layers import Dense\n",
    "from sklearn.model_selection import train_test_split\n",
    "from sklearn.metrics import mean_squared_error"
   ]
  },
  {
   "cell_type": "markdown",
   "metadata": {},
   "source": [
    "### Part A"
   ]
  },
  {
   "cell_type": "markdown",
   "metadata": {
    "button": false,
    "new_sheet": false,
    "run_control": {
     "read_only": false
    }
   },
   "source": [
    "Let's download the data and read it into a <em>pandas</em> dataframe."
   ]
  },
  {
   "cell_type": "code",
   "execution_count": 9,
   "metadata": {
    "button": false,
    "new_sheet": false,
    "run_control": {
     "read_only": false
    }
   },
   "outputs": [
    {
     "data": {
      "text/html": [
       "<div>\n",
       "<style scoped>\n",
       "    .dataframe tbody tr th:only-of-type {\n",
       "        vertical-align: middle;\n",
       "    }\n",
       "\n",
       "    .dataframe tbody tr th {\n",
       "        vertical-align: top;\n",
       "    }\n",
       "\n",
       "    .dataframe thead th {\n",
       "        text-align: right;\n",
       "    }\n",
       "</style>\n",
       "<table border=\"1\" class=\"dataframe\">\n",
       "  <thead>\n",
       "    <tr style=\"text-align: right;\">\n",
       "      <th></th>\n",
       "      <th>Cement</th>\n",
       "      <th>Blast Furnace Slag</th>\n",
       "      <th>Fly Ash</th>\n",
       "      <th>Water</th>\n",
       "      <th>Superplasticizer</th>\n",
       "      <th>Coarse Aggregate</th>\n",
       "      <th>Fine Aggregate</th>\n",
       "      <th>Age</th>\n",
       "      <th>Strength</th>\n",
       "    </tr>\n",
       "  </thead>\n",
       "  <tbody>\n",
       "    <tr>\n",
       "      <th>1026</th>\n",
       "      <td>322.2</td>\n",
       "      <td>0.0</td>\n",
       "      <td>115.6</td>\n",
       "      <td>196.0</td>\n",
       "      <td>10.4</td>\n",
       "      <td>817.9</td>\n",
       "      <td>813.4</td>\n",
       "      <td>28</td>\n",
       "      <td>31.18</td>\n",
       "    </tr>\n",
       "    <tr>\n",
       "      <th>1027</th>\n",
       "      <td>148.5</td>\n",
       "      <td>139.4</td>\n",
       "      <td>108.6</td>\n",
       "      <td>192.7</td>\n",
       "      <td>6.1</td>\n",
       "      <td>892.4</td>\n",
       "      <td>780.0</td>\n",
       "      <td>28</td>\n",
       "      <td>23.70</td>\n",
       "    </tr>\n",
       "    <tr>\n",
       "      <th>1028</th>\n",
       "      <td>159.1</td>\n",
       "      <td>186.7</td>\n",
       "      <td>0.0</td>\n",
       "      <td>175.6</td>\n",
       "      <td>11.3</td>\n",
       "      <td>989.6</td>\n",
       "      <td>788.9</td>\n",
       "      <td>28</td>\n",
       "      <td>32.77</td>\n",
       "    </tr>\n",
       "    <tr>\n",
       "      <th>1029</th>\n",
       "      <td>260.9</td>\n",
       "      <td>100.5</td>\n",
       "      <td>78.3</td>\n",
       "      <td>200.6</td>\n",
       "      <td>8.6</td>\n",
       "      <td>864.5</td>\n",
       "      <td>761.5</td>\n",
       "      <td>28</td>\n",
       "      <td>32.40</td>\n",
       "    </tr>\n",
       "  </tbody>\n",
       "</table>\n",
       "</div>"
      ],
      "text/plain": [
       "      Cement  Blast Furnace Slag  Fly Ash  Water  Superplasticizer  \\\n",
       "1026   322.2                 0.0    115.6  196.0              10.4   \n",
       "1027   148.5               139.4    108.6  192.7               6.1   \n",
       "1028   159.1               186.7      0.0  175.6              11.3   \n",
       "1029   260.9               100.5     78.3  200.6               8.6   \n",
       "\n",
       "      Coarse Aggregate  Fine Aggregate  Age  Strength  \n",
       "1026             817.9           813.4   28     31.18  \n",
       "1027             892.4           780.0   28     23.70  \n",
       "1028             989.6           788.9   28     32.77  \n",
       "1029             864.5           761.5   28     32.40  "
      ]
     },
     "execution_count": 9,
     "metadata": {},
     "output_type": "execute_result"
    }
   ],
   "source": [
    "concrete_dat = pd.read_csv('https://cocl.us/concrete_data')\n",
    "concrete_dat.tail(4)"
   ]
  },
  {
   "cell_type": "markdown",
   "metadata": {
    "button": false,
    "new_sheet": false,
    "run_control": {
     "read_only": false
    }
   },
   "source": [
    "Let's explore more about the dataset."
   ]
  },
  {
   "cell_type": "code",
   "execution_count": 10,
   "metadata": {
    "button": false,
    "new_sheet": false,
    "run_control": {
     "read_only": false
    }
   },
   "outputs": [
    {
     "data": {
      "text/plain": [
       "(1030, 9)"
      ]
     },
     "execution_count": 10,
     "metadata": {},
     "output_type": "execute_result"
    }
   ],
   "source": [
    "concrete_dat.shape"
   ]
  },
  {
   "cell_type": "markdown",
   "metadata": {
    "button": false,
    "new_sheet": false,
    "run_control": {
     "read_only": false
    }
   },
   "source": [
    "We'll randomly split the data, so there are less than 1000 samples to train our model on - at this point, we have to be careful not to overfit the training data."
   ]
  },
  {
   "cell_type": "code",
   "execution_count": 5,
   "metadata": {
    "button": false,
    "new_sheet": false,
    "run_control": {
     "read_only": false
    }
   },
   "outputs": [
    {
     "data": {
      "text/html": [
       "<div>\n",
       "<style scoped>\n",
       "    .dataframe tbody tr th:only-of-type {\n",
       "        vertical-align: middle;\n",
       "    }\n",
       "\n",
       "    .dataframe tbody tr th {\n",
       "        vertical-align: top;\n",
       "    }\n",
       "\n",
       "    .dataframe thead th {\n",
       "        text-align: right;\n",
       "    }\n",
       "</style>\n",
       "<table border=\"1\" class=\"dataframe\">\n",
       "  <thead>\n",
       "    <tr style=\"text-align: right;\">\n",
       "      <th></th>\n",
       "      <th>Cement</th>\n",
       "      <th>Blast Furnace Slag</th>\n",
       "      <th>Fly Ash</th>\n",
       "      <th>Water</th>\n",
       "      <th>Superplasticizer</th>\n",
       "      <th>Coarse Aggregate</th>\n",
       "      <th>Fine Aggregate</th>\n",
       "      <th>Age</th>\n",
       "      <th>Strength</th>\n",
       "    </tr>\n",
       "  </thead>\n",
       "  <tbody>\n",
       "    <tr>\n",
       "      <th>count</th>\n",
       "      <td>1030.000000</td>\n",
       "      <td>1030.000000</td>\n",
       "      <td>1030.000000</td>\n",
       "      <td>1030.000000</td>\n",
       "      <td>1030.000000</td>\n",
       "      <td>1030.000000</td>\n",
       "      <td>1030.000000</td>\n",
       "      <td>1030.000000</td>\n",
       "      <td>1030.000000</td>\n",
       "    </tr>\n",
       "    <tr>\n",
       "      <th>mean</th>\n",
       "      <td>281.167864</td>\n",
       "      <td>73.895825</td>\n",
       "      <td>54.188350</td>\n",
       "      <td>181.567282</td>\n",
       "      <td>6.204660</td>\n",
       "      <td>972.918932</td>\n",
       "      <td>773.580485</td>\n",
       "      <td>45.662136</td>\n",
       "      <td>35.817961</td>\n",
       "    </tr>\n",
       "    <tr>\n",
       "      <th>std</th>\n",
       "      <td>104.506364</td>\n",
       "      <td>86.279342</td>\n",
       "      <td>63.997004</td>\n",
       "      <td>21.354219</td>\n",
       "      <td>5.973841</td>\n",
       "      <td>77.753954</td>\n",
       "      <td>80.175980</td>\n",
       "      <td>63.169912</td>\n",
       "      <td>16.705742</td>\n",
       "    </tr>\n",
       "    <tr>\n",
       "      <th>min</th>\n",
       "      <td>102.000000</td>\n",
       "      <td>0.000000</td>\n",
       "      <td>0.000000</td>\n",
       "      <td>121.800000</td>\n",
       "      <td>0.000000</td>\n",
       "      <td>801.000000</td>\n",
       "      <td>594.000000</td>\n",
       "      <td>1.000000</td>\n",
       "      <td>2.330000</td>\n",
       "    </tr>\n",
       "    <tr>\n",
       "      <th>25%</th>\n",
       "      <td>192.375000</td>\n",
       "      <td>0.000000</td>\n",
       "      <td>0.000000</td>\n",
       "      <td>164.900000</td>\n",
       "      <td>0.000000</td>\n",
       "      <td>932.000000</td>\n",
       "      <td>730.950000</td>\n",
       "      <td>7.000000</td>\n",
       "      <td>23.710000</td>\n",
       "    </tr>\n",
       "    <tr>\n",
       "      <th>50%</th>\n",
       "      <td>272.900000</td>\n",
       "      <td>22.000000</td>\n",
       "      <td>0.000000</td>\n",
       "      <td>185.000000</td>\n",
       "      <td>6.400000</td>\n",
       "      <td>968.000000</td>\n",
       "      <td>779.500000</td>\n",
       "      <td>28.000000</td>\n",
       "      <td>34.445000</td>\n",
       "    </tr>\n",
       "    <tr>\n",
       "      <th>75%</th>\n",
       "      <td>350.000000</td>\n",
       "      <td>142.950000</td>\n",
       "      <td>118.300000</td>\n",
       "      <td>192.000000</td>\n",
       "      <td>10.200000</td>\n",
       "      <td>1029.400000</td>\n",
       "      <td>824.000000</td>\n",
       "      <td>56.000000</td>\n",
       "      <td>46.135000</td>\n",
       "    </tr>\n",
       "    <tr>\n",
       "      <th>max</th>\n",
       "      <td>540.000000</td>\n",
       "      <td>359.400000</td>\n",
       "      <td>200.100000</td>\n",
       "      <td>247.000000</td>\n",
       "      <td>32.200000</td>\n",
       "      <td>1145.000000</td>\n",
       "      <td>992.600000</td>\n",
       "      <td>365.000000</td>\n",
       "      <td>82.600000</td>\n",
       "    </tr>\n",
       "  </tbody>\n",
       "</table>\n",
       "</div>"
      ],
      "text/plain": [
       "            Cement  Blast Furnace Slag      Fly Ash        Water  \\\n",
       "count  1030.000000         1030.000000  1030.000000  1030.000000   \n",
       "mean    281.167864           73.895825    54.188350   181.567282   \n",
       "std     104.506364           86.279342    63.997004    21.354219   \n",
       "min     102.000000            0.000000     0.000000   121.800000   \n",
       "25%     192.375000            0.000000     0.000000   164.900000   \n",
       "50%     272.900000           22.000000     0.000000   185.000000   \n",
       "75%     350.000000          142.950000   118.300000   192.000000   \n",
       "max     540.000000          359.400000   200.100000   247.000000   \n",
       "\n",
       "       Superplasticizer  Coarse Aggregate  Fine Aggregate          Age  \\\n",
       "count       1030.000000       1030.000000     1030.000000  1030.000000   \n",
       "mean           6.204660        972.918932      773.580485    45.662136   \n",
       "std            5.973841         77.753954       80.175980    63.169912   \n",
       "min            0.000000        801.000000      594.000000     1.000000   \n",
       "25%            0.000000        932.000000      730.950000     7.000000   \n",
       "50%            6.400000        968.000000      779.500000    28.000000   \n",
       "75%           10.200000       1029.400000      824.000000    56.000000   \n",
       "max           32.200000       1145.000000      992.600000   365.000000   \n",
       "\n",
       "          Strength  \n",
       "count  1030.000000  \n",
       "mean     35.817961  \n",
       "std      16.705742  \n",
       "min       2.330000  \n",
       "25%      23.710000  \n",
       "50%      34.445000  \n",
       "75%      46.135000  \n",
       "max      82.600000  "
      ]
     },
     "execution_count": 5,
     "metadata": {},
     "output_type": "execute_result"
    }
   ],
   "source": [
    "concrete_dat.describe()"
   ]
  },
  {
   "cell_type": "markdown",
   "metadata": {},
   "source": [
    "Before data-manipulation, preprocessing or feature-engineering, we might also want to find out the relationship between variables."
   ]
  },
  {
   "cell_type": "code",
   "execution_count": 6,
   "metadata": {},
   "outputs": [
    {
     "data": {
      "text/html": [
       "<div>\n",
       "<style scoped>\n",
       "    .dataframe tbody tr th:only-of-type {\n",
       "        vertical-align: middle;\n",
       "    }\n",
       "\n",
       "    .dataframe tbody tr th {\n",
       "        vertical-align: top;\n",
       "    }\n",
       "\n",
       "    .dataframe thead th {\n",
       "        text-align: right;\n",
       "    }\n",
       "</style>\n",
       "<table border=\"1\" class=\"dataframe\">\n",
       "  <thead>\n",
       "    <tr style=\"text-align: right;\">\n",
       "      <th></th>\n",
       "      <th>Cement</th>\n",
       "      <th>Blast Furnace Slag</th>\n",
       "      <th>Fly Ash</th>\n",
       "      <th>Water</th>\n",
       "      <th>Superplasticizer</th>\n",
       "      <th>Coarse Aggregate</th>\n",
       "      <th>Fine Aggregate</th>\n",
       "      <th>Age</th>\n",
       "      <th>Strength</th>\n",
       "    </tr>\n",
       "  </thead>\n",
       "  <tbody>\n",
       "    <tr>\n",
       "      <th>Cement</th>\n",
       "      <td>1.000000</td>\n",
       "      <td>-0.275216</td>\n",
       "      <td>-0.397467</td>\n",
       "      <td>-0.081587</td>\n",
       "      <td>0.092386</td>\n",
       "      <td>-0.109349</td>\n",
       "      <td>-0.222718</td>\n",
       "      <td>0.081946</td>\n",
       "      <td>0.497832</td>\n",
       "    </tr>\n",
       "    <tr>\n",
       "      <th>Blast Furnace Slag</th>\n",
       "      <td>-0.275216</td>\n",
       "      <td>1.000000</td>\n",
       "      <td>-0.323580</td>\n",
       "      <td>0.107252</td>\n",
       "      <td>0.043270</td>\n",
       "      <td>-0.283999</td>\n",
       "      <td>-0.281603</td>\n",
       "      <td>-0.044246</td>\n",
       "      <td>0.134829</td>\n",
       "    </tr>\n",
       "    <tr>\n",
       "      <th>Fly Ash</th>\n",
       "      <td>-0.397467</td>\n",
       "      <td>-0.323580</td>\n",
       "      <td>1.000000</td>\n",
       "      <td>-0.256984</td>\n",
       "      <td>0.377503</td>\n",
       "      <td>-0.009961</td>\n",
       "      <td>0.079108</td>\n",
       "      <td>-0.154371</td>\n",
       "      <td>-0.105755</td>\n",
       "    </tr>\n",
       "    <tr>\n",
       "      <th>Water</th>\n",
       "      <td>-0.081587</td>\n",
       "      <td>0.107252</td>\n",
       "      <td>-0.256984</td>\n",
       "      <td>1.000000</td>\n",
       "      <td>-0.657533</td>\n",
       "      <td>-0.182294</td>\n",
       "      <td>-0.450661</td>\n",
       "      <td>0.277618</td>\n",
       "      <td>-0.289633</td>\n",
       "    </tr>\n",
       "    <tr>\n",
       "      <th>Superplasticizer</th>\n",
       "      <td>0.092386</td>\n",
       "      <td>0.043270</td>\n",
       "      <td>0.377503</td>\n",
       "      <td>-0.657533</td>\n",
       "      <td>1.000000</td>\n",
       "      <td>-0.265999</td>\n",
       "      <td>0.222691</td>\n",
       "      <td>-0.192700</td>\n",
       "      <td>0.366079</td>\n",
       "    </tr>\n",
       "    <tr>\n",
       "      <th>Coarse Aggregate</th>\n",
       "      <td>-0.109349</td>\n",
       "      <td>-0.283999</td>\n",
       "      <td>-0.009961</td>\n",
       "      <td>-0.182294</td>\n",
       "      <td>-0.265999</td>\n",
       "      <td>1.000000</td>\n",
       "      <td>-0.178481</td>\n",
       "      <td>-0.003016</td>\n",
       "      <td>-0.164935</td>\n",
       "    </tr>\n",
       "    <tr>\n",
       "      <th>Fine Aggregate</th>\n",
       "      <td>-0.222718</td>\n",
       "      <td>-0.281603</td>\n",
       "      <td>0.079108</td>\n",
       "      <td>-0.450661</td>\n",
       "      <td>0.222691</td>\n",
       "      <td>-0.178481</td>\n",
       "      <td>1.000000</td>\n",
       "      <td>-0.156095</td>\n",
       "      <td>-0.167241</td>\n",
       "    </tr>\n",
       "    <tr>\n",
       "      <th>Age</th>\n",
       "      <td>0.081946</td>\n",
       "      <td>-0.044246</td>\n",
       "      <td>-0.154371</td>\n",
       "      <td>0.277618</td>\n",
       "      <td>-0.192700</td>\n",
       "      <td>-0.003016</td>\n",
       "      <td>-0.156095</td>\n",
       "      <td>1.000000</td>\n",
       "      <td>0.328873</td>\n",
       "    </tr>\n",
       "    <tr>\n",
       "      <th>Strength</th>\n",
       "      <td>0.497832</td>\n",
       "      <td>0.134829</td>\n",
       "      <td>-0.105755</td>\n",
       "      <td>-0.289633</td>\n",
       "      <td>0.366079</td>\n",
       "      <td>-0.164935</td>\n",
       "      <td>-0.167241</td>\n",
       "      <td>0.328873</td>\n",
       "      <td>1.000000</td>\n",
       "    </tr>\n",
       "  </tbody>\n",
       "</table>\n",
       "</div>"
      ],
      "text/plain": [
       "                      Cement  Blast Furnace Slag   Fly Ash     Water  \\\n",
       "Cement              1.000000           -0.275216 -0.397467 -0.081587   \n",
       "Blast Furnace Slag -0.275216            1.000000 -0.323580  0.107252   \n",
       "Fly Ash            -0.397467           -0.323580  1.000000 -0.256984   \n",
       "Water              -0.081587            0.107252 -0.256984  1.000000   \n",
       "Superplasticizer    0.092386            0.043270  0.377503 -0.657533   \n",
       "Coarse Aggregate   -0.109349           -0.283999 -0.009961 -0.182294   \n",
       "Fine Aggregate     -0.222718           -0.281603  0.079108 -0.450661   \n",
       "Age                 0.081946           -0.044246 -0.154371  0.277618   \n",
       "Strength            0.497832            0.134829 -0.105755 -0.289633   \n",
       "\n",
       "                    Superplasticizer  Coarse Aggregate  Fine Aggregate  \\\n",
       "Cement                      0.092386         -0.109349       -0.222718   \n",
       "Blast Furnace Slag          0.043270         -0.283999       -0.281603   \n",
       "Fly Ash                     0.377503         -0.009961        0.079108   \n",
       "Water                      -0.657533         -0.182294       -0.450661   \n",
       "Superplasticizer            1.000000         -0.265999        0.222691   \n",
       "Coarse Aggregate           -0.265999          1.000000       -0.178481   \n",
       "Fine Aggregate              0.222691         -0.178481        1.000000   \n",
       "Age                        -0.192700         -0.003016       -0.156095   \n",
       "Strength                    0.366079         -0.164935       -0.167241   \n",
       "\n",
       "                         Age  Strength  \n",
       "Cement              0.081946  0.497832  \n",
       "Blast Furnace Slag -0.044246  0.134829  \n",
       "Fly Ash            -0.154371 -0.105755  \n",
       "Water               0.277618 -0.289633  \n",
       "Superplasticizer   -0.192700  0.366079  \n",
       "Coarse Aggregate   -0.003016 -0.164935  \n",
       "Fine Aggregate     -0.156095 -0.167241  \n",
       "Age                 1.000000  0.328873  \n",
       "Strength            0.328873  1.000000  "
      ]
     },
     "execution_count": 6,
     "metadata": {},
     "output_type": "execute_result"
    }
   ],
   "source": [
    "# use Pearson method\n",
    "concrete_dat.corr(method ='pearson') "
   ]
  },
  {
   "cell_type": "markdown",
   "metadata": {},
   "source": [
    "Let's check the dataset for any missing values."
   ]
  },
  {
   "cell_type": "code",
   "execution_count": 7,
   "metadata": {
    "button": false,
    "new_sheet": false,
    "run_control": {
     "read_only": false
    }
   },
   "outputs": [
    {
     "data": {
      "text/plain": [
       "Cement                0\n",
       "Blast Furnace Slag    0\n",
       "Fly Ash               0\n",
       "Water                 0\n",
       "Superplasticizer      0\n",
       "Coarse Aggregate      0\n",
       "Fine Aggregate        0\n",
       "Age                   0\n",
       "Strength              0\n",
       "dtype: int64"
      ]
     },
     "execution_count": 7,
     "metadata": {},
     "output_type": "execute_result"
    }
   ],
   "source": [
    "concrete_dat.isnull().sum()"
   ]
  },
  {
   "cell_type": "markdown",
   "metadata": {
    "button": false,
    "new_sheet": false,
    "run_control": {
     "read_only": false
    }
   },
   "source": [
    "The data looks pretty much ready..."
   ]
  },
  {
   "cell_type": "markdown",
   "metadata": {
    "button": false,
    "new_sheet": false,
    "run_control": {
     "read_only": false
    }
   },
   "source": [
    "So let's split data into predictors and target. The target variable in this problem is the concrete sample strength."
   ]
  },
  {
   "cell_type": "code",
   "execution_count": 8,
   "metadata": {
    "button": false,
    "new_sheet": false,
    "run_control": {
     "read_only": false
    }
   },
   "outputs": [],
   "source": [
    "dat_cols = concrete_dat.columns\n",
    "\n",
    "predictors = concrete_dat[dat_cols[dat_cols != 'Strength']]  # all columns except Strength\n",
    "target = concrete_dat['Strength'] # Strength column"
   ]
  },
  {
   "cell_type": "markdown",
   "metadata": {},
   "source": [
    "Let's do a quick sanity check of the predictors and the target dataframes."
   ]
  },
  {
   "cell_type": "code",
   "execution_count": 9,
   "metadata": {},
   "outputs": [
    {
     "data": {
      "text/html": [
       "<div>\n",
       "<style scoped>\n",
       "    .dataframe tbody tr th:only-of-type {\n",
       "        vertical-align: middle;\n",
       "    }\n",
       "\n",
       "    .dataframe tbody tr th {\n",
       "        vertical-align: top;\n",
       "    }\n",
       "\n",
       "    .dataframe thead th {\n",
       "        text-align: right;\n",
       "    }\n",
       "</style>\n",
       "<table border=\"1\" class=\"dataframe\">\n",
       "  <thead>\n",
       "    <tr style=\"text-align: right;\">\n",
       "      <th></th>\n",
       "      <th>Cement</th>\n",
       "      <th>Blast Furnace Slag</th>\n",
       "      <th>Fly Ash</th>\n",
       "      <th>Water</th>\n",
       "      <th>Superplasticizer</th>\n",
       "      <th>Coarse Aggregate</th>\n",
       "      <th>Fine Aggregate</th>\n",
       "      <th>Age</th>\n",
       "    </tr>\n",
       "  </thead>\n",
       "  <tbody>\n",
       "    <tr>\n",
       "      <th>0</th>\n",
       "      <td>540.0</td>\n",
       "      <td>0.0</td>\n",
       "      <td>0.0</td>\n",
       "      <td>162.0</td>\n",
       "      <td>2.5</td>\n",
       "      <td>1040.0</td>\n",
       "      <td>676.0</td>\n",
       "      <td>28</td>\n",
       "    </tr>\n",
       "    <tr>\n",
       "      <th>1</th>\n",
       "      <td>540.0</td>\n",
       "      <td>0.0</td>\n",
       "      <td>0.0</td>\n",
       "      <td>162.0</td>\n",
       "      <td>2.5</td>\n",
       "      <td>1055.0</td>\n",
       "      <td>676.0</td>\n",
       "      <td>28</td>\n",
       "    </tr>\n",
       "    <tr>\n",
       "      <th>2</th>\n",
       "      <td>332.5</td>\n",
       "      <td>142.5</td>\n",
       "      <td>0.0</td>\n",
       "      <td>228.0</td>\n",
       "      <td>0.0</td>\n",
       "      <td>932.0</td>\n",
       "      <td>594.0</td>\n",
       "      <td>270</td>\n",
       "    </tr>\n",
       "    <tr>\n",
       "      <th>3</th>\n",
       "      <td>332.5</td>\n",
       "      <td>142.5</td>\n",
       "      <td>0.0</td>\n",
       "      <td>228.0</td>\n",
       "      <td>0.0</td>\n",
       "      <td>932.0</td>\n",
       "      <td>594.0</td>\n",
       "      <td>365</td>\n",
       "    </tr>\n",
       "  </tbody>\n",
       "</table>\n",
       "</div>"
      ],
      "text/plain": [
       "   Cement  Blast Furnace Slag  Fly Ash  Water  Superplasticizer  \\\n",
       "0   540.0                 0.0      0.0  162.0               2.5   \n",
       "1   540.0                 0.0      0.0  162.0               2.5   \n",
       "2   332.5               142.5      0.0  228.0               0.0   \n",
       "3   332.5               142.5      0.0  228.0               0.0   \n",
       "\n",
       "   Coarse Aggregate  Fine Aggregate  Age  \n",
       "0            1040.0           676.0   28  \n",
       "1            1055.0           676.0   28  \n",
       "2             932.0           594.0  270  \n",
       "3             932.0           594.0  365  "
      ]
     },
     "execution_count": 9,
     "metadata": {},
     "output_type": "execute_result"
    }
   ],
   "source": [
    "predictors[:4]"
   ]
  },
  {
   "cell_type": "code",
   "execution_count": 12,
   "metadata": {
    "button": false,
    "new_sheet": false,
    "run_control": {
     "read_only": false
    }
   },
   "outputs": [
    {
     "data": {
      "text/plain": [
       "0    79.99\n",
       "1    61.89\n",
       "2    40.27\n",
       "3    41.05\n",
       "Name: Strength, dtype: float64"
      ]
     },
     "execution_count": 12,
     "metadata": {},
     "output_type": "execute_result"
    }
   ],
   "source": [
    "target[:4]"
   ]
  },
  {
   "cell_type": "markdown",
   "metadata": {},
   "source": [
    "Now we can save the number of predictors into *n_cols* as we need this number later for building our neural network."
   ]
  },
  {
   "cell_type": "code",
   "execution_count": 14,
   "metadata": {
    "button": false,
    "new_sheet": false,
    "run_control": {
     "read_only": false
    }
   },
   "outputs": [],
   "source": [
    "n_cols = predictors.shape[1]   # number of predictors"
   ]
  },
  {
   "cell_type": "markdown",
   "metadata": {},
   "source": [
    "And, let's randomly split the data: holding 30% of the data for testing."
   ]
  },
  {
   "cell_type": "code",
   "execution_count": 15,
   "metadata": {},
   "outputs": [],
   "source": [
    "# split the data: holding 30% of the data for testing\n",
    "\n",
    "X_train, X_test, y_train, y_test = train_test_split(predictors, target, test_size=0.3)"
   ]
  },
  {
   "cell_type": "markdown",
   "metadata": {
    "button": false,
    "new_sheet": false,
    "run_control": {
     "read_only": false
    }
   },
   "source": [
    "#### We now start building a Neural Network"
   ]
  },
  {
   "cell_type": "markdown",
   "metadata": {
    "button": false,
    "new_sheet": false,
    "run_control": {
     "read_only": false
    }
   },
   "source": [
    "First, let's define our regression model by creating a function so that we're able to conveniently call it during our model creation."
   ]
  },
  {
   "cell_type": "code",
   "execution_count": 16,
   "metadata": {
    "button": false,
    "new_sheet": false,
    "run_control": {
     "read_only": false
    }
   },
   "outputs": [],
   "source": [
    "# define a regression model: one hidden layer of 10 nodes and use ReLU activation function\n",
    "\n",
    "def regression_model():\n",
    "\n",
    "    model = Sequential()\n",
    "    model.add(Dense(10, activation='relu', input_shape=(n_cols,)))\n",
    "    model.add(Dense(1))\n",
    "    \n",
    "    # compile model\n",
    "    model.compile(optimizer='adam', loss='mean_squared_error')\n",
    "    return model"
   ]
  },
  {
   "cell_type": "markdown",
   "metadata": {
    "button": false,
    "new_sheet": false,
    "run_control": {
     "read_only": false
    }
   },
   "source": [
    "#### Train and Test the Network"
   ]
  },
  {
   "cell_type": "markdown",
   "metadata": {},
   "source": [
    "Let's call the function now to create our model."
   ]
  },
  {
   "cell_type": "code",
   "execution_count": 17,
   "metadata": {
    "button": false,
    "new_sheet": false,
    "run_control": {
     "read_only": false
    }
   },
   "outputs": [],
   "source": [
    "# build the model\n",
    "model = regression_model()"
   ]
  },
  {
   "cell_type": "markdown",
   "metadata": {},
   "source": [
    "Here we will train and test the model at the same time using the *fit* method. We will train the model for 50 epochs at this time."
   ]
  },
  {
   "cell_type": "code",
   "execution_count": 18,
   "metadata": {},
   "outputs": [
    {
     "name": "stdout",
     "output_type": "stream",
     "text": [
      "Train on 721 samples, validate on 309 samples\n",
      "Epoch 1/50\n",
      "721/721 [==============================] - 0s 247us/step - loss: 241623.2450 - val_loss: 170624.6457\n",
      "Epoch 2/50\n",
      "721/721 [==============================] - 0s 30us/step - loss: 124799.6619 - val_loss: 82735.7879\n",
      "Epoch 3/50\n",
      "721/721 [==============================] - 0s 31us/step - loss: 59266.4731 - val_loss: 37432.7567\n",
      "Epoch 4/50\n",
      "721/721 [==============================] - 0s 29us/step - loss: 27086.8555 - val_loss: 16751.1701\n",
      "Epoch 5/50\n",
      "721/721 [==============================] - 0s 31us/step - loss: 12820.1982 - val_loss: 8626.2377\n",
      "Epoch 6/50\n",
      "721/721 [==============================] - 0s 29us/step - loss: 7447.6260 - val_loss: 5740.3743\n",
      "Epoch 7/50\n",
      "721/721 [==============================] - 0s 31us/step - loss: 5587.9057 - val_loss: 4768.3054\n",
      "Epoch 8/50\n",
      "721/721 [==============================] - 0s 30us/step - loss: 4937.9253 - val_loss: 4397.0368\n",
      "Epoch 9/50\n",
      "721/721 [==============================] - 0s 29us/step - loss: 4621.2290 - val_loss: 4152.2744\n",
      "Epoch 10/50\n",
      "721/721 [==============================] - 0s 33us/step - loss: 4380.7045 - val_loss: 3927.0352\n",
      "Epoch 11/50\n",
      "721/721 [==============================] - 0s 31us/step - loss: 4158.1750 - val_loss: 3698.7115\n",
      "Epoch 12/50\n",
      "721/721 [==============================] - 0s 29us/step - loss: 3939.4702 - val_loss: 3477.2172\n",
      "Epoch 13/50\n",
      "721/721 [==============================] - 0s 29us/step - loss: 3714.5827 - val_loss: 3248.4143\n",
      "Epoch 14/50\n",
      "721/721 [==============================] - 0s 31us/step - loss: 3488.9547 - val_loss: 3034.2583\n",
      "Epoch 15/50\n",
      "721/721 [==============================] - 0s 29us/step - loss: 3275.0671 - val_loss: 2828.1110\n",
      "Epoch 16/50\n",
      "721/721 [==============================] - 0s 28us/step - loss: 3068.3162 - val_loss: 2634.5386\n",
      "Epoch 17/50\n",
      "721/721 [==============================] - 0s 33us/step - loss: 2879.7240 - val_loss: 2438.9335\n",
      "Epoch 18/50\n",
      "721/721 [==============================] - 0s 32us/step - loss: 2693.8336 - val_loss: 2267.7225\n",
      "Epoch 19/50\n",
      "721/721 [==============================] - 0s 31us/step - loss: 2526.5110 - val_loss: 2105.8671\n",
      "Epoch 20/50\n",
      "721/721 [==============================] - 0s 32us/step - loss: 2362.6001 - val_loss: 1959.7094\n",
      "Epoch 21/50\n",
      "721/721 [==============================] - 0s 29us/step - loss: 2219.3572 - val_loss: 1819.2109\n",
      "Epoch 22/50\n",
      "721/721 [==============================] - 0s 32us/step - loss: 2080.7962 - val_loss: 1701.9286\n",
      "Epoch 23/50\n",
      "721/721 [==============================] - 0s 33us/step - loss: 1958.6791 - val_loss: 1587.4354\n",
      "Epoch 24/50\n",
      "721/721 [==============================] - 0s 32us/step - loss: 1841.7991 - val_loss: 1482.6170\n",
      "Epoch 25/50\n",
      "721/721 [==============================] - 0s 32us/step - loss: 1728.5446 - val_loss: 1384.8682\n",
      "Epoch 26/50\n",
      "721/721 [==============================] - 0s 33us/step - loss: 1625.1832 - val_loss: 1294.1704\n",
      "Epoch 27/50\n",
      "721/721 [==============================] - 0s 29us/step - loss: 1525.2905 - val_loss: 1204.6406\n",
      "Epoch 28/50\n",
      "721/721 [==============================] - 0s 31us/step - loss: 1433.2690 - val_loss: 1126.5740\n",
      "Epoch 29/50\n",
      "721/721 [==============================] - 0s 32us/step - loss: 1349.6373 - val_loss: 1053.6587\n",
      "Epoch 30/50\n",
      "721/721 [==============================] - 0s 32us/step - loss: 1275.1069 - val_loss: 985.3068\n",
      "Epoch 31/50\n",
      "721/721 [==============================] - 0s 164us/step - loss: 1200.1216 - val_loss: 926.3384\n",
      "Epoch 32/50\n",
      "721/721 [==============================] - 0s 331us/step - loss: 1135.9980 - val_loss: 871.9028\n",
      "Epoch 33/50\n",
      "721/721 [==============================] - 0s 394us/step - loss: 1074.3781 - val_loss: 824.6936\n",
      "Epoch 34/50\n",
      "721/721 [==============================] - 0s 359us/step - loss: 1015.5221 - val_loss: 779.5209\n",
      "Epoch 35/50\n",
      "721/721 [==============================] - 0s 336us/step - loss: 961.1774 - val_loss: 736.7601\n",
      "Epoch 36/50\n",
      "721/721 [==============================] - 0s 344us/step - loss: 910.2754 - val_loss: 699.9988\n",
      "Epoch 37/50\n",
      "721/721 [==============================] - 0s 326us/step - loss: 862.9202 - val_loss: 667.5769\n",
      "Epoch 38/50\n",
      "721/721 [==============================] - 0s 391us/step - loss: 821.9469 - val_loss: 636.7043\n",
      "Epoch 39/50\n",
      "721/721 [==============================] - 0s 332us/step - loss: 782.3631 - val_loss: 611.7784\n",
      "Epoch 40/50\n",
      "721/721 [==============================] - 0s 427us/step - loss: 747.3223 - val_loss: 588.4755\n",
      "Epoch 41/50\n",
      "721/721 [==============================] - 0s 326us/step - loss: 714.9371 - val_loss: 568.1558\n",
      "Epoch 42/50\n",
      "721/721 [==============================] - 0s 345us/step - loss: 686.1667 - val_loss: 551.7886\n",
      "Epoch 43/50\n",
      "721/721 [==============================] - 0s 344us/step - loss: 660.4217 - val_loss: 536.7932\n",
      "Epoch 44/50\n",
      "721/721 [==============================] - ETA: 0s - loss: 628.618 - 0s 341us/step - loss: 636.8318 - val_loss: 524.1290\n",
      "Epoch 45/50\n",
      "721/721 [==============================] - 0s 345us/step - loss: 614.0926 - val_loss: 510.8604\n",
      "Epoch 46/50\n",
      "721/721 [==============================] - 0s 368us/step - loss: 591.6522 - val_loss: 499.5599\n",
      "Epoch 47/50\n",
      "721/721 [==============================] - 0s 320us/step - loss: 573.4334 - val_loss: 489.1264\n",
      "Epoch 48/50\n",
      "721/721 [==============================] - 0s 431us/step - loss: 555.9071 - val_loss: 480.3543\n",
      "Epoch 49/50\n",
      "721/721 [==============================] - 0s 294us/step - loss: 540.6654 - val_loss: 472.4207\n",
      "Epoch 50/50\n",
      "721/721 [==============================] - 0s 190us/step - loss: 527.0439 - val_loss: 465.3002\n"
     ]
    },
    {
     "data": {
      "text/plain": [
       "<keras.callbacks.callbacks.History at 0x2031649c630>"
      ]
     },
     "execution_count": 18,
     "metadata": {},
     "output_type": "execute_result"
    }
   ],
   "source": [
    "#####################\n",
    "# model.fit(predictors_norm, target, validation_split=0.3, epochs=50, verbose=2)\n",
    "# fit the model\n",
    "model.fit(X_train, y_train, validation_data=(X_test, y_test), epochs=50, verbose=1)"
   ]
  },
  {
   "cell_type": "code",
   "execution_count": 31,
   "metadata": {},
   "outputs": [],
   "source": [
    "# evaluate the model\n",
    "\n",
    "# pred= model.predict(X_test)\n",
    "# print('RMSE:', np.sqrt(mean_squared_error(y_test,pred))) "
   ]
  },
  {
   "cell_type": "markdown",
   "metadata": {},
   "source": [
    "Let's put the steps together and train & test the model for a number of 50 times. To evaluate our model, we'll calculate the mean of RMSE and find out the standard deviaiton."
   ]
  },
  {
   "cell_type": "code",
   "execution_count": 19,
   "metadata": {},
   "outputs": [
    {
     "name": "stdout",
     "output_type": "stream",
     "text": [
      "[13.641154063744153, 12.25310319114476, 14.130602586102704, 11.857081428994823, 14.936947170098792, 27.444370825409447, 10.022470015939813, 13.806232090962235, 24.898261294286968, 9.031729718856758, 25.995218089484407, 10.41135065861988, 49.59387677110834, 20.580652641159723, 10.049870049613, 10.665492056104634, 25.55445395124983, 13.495026274162553, 10.874420762640515, 10.23049698195622, 23.699969887250905, 11.663229528827111, 13.549683897461307, 22.73241934208476, 8.966649978310109, 10.319234439983047, 16.413227391986364, 22.032033457176098, 15.984186588487125, 11.123065331928574, 12.542217715157149, 14.730741593877633, 12.531061008464738, 11.032360800273178, 22.36289368649462, 10.496870850398986, 37.765527093532846, 18.899531718344857, 16.379359273876457, 11.60449720420003, 13.646975980221592, 15.61252359132778, 12.40179538277311, 13.391458037482202, 18.643708157155647, 24.019704736765675, 8.404825672636903, 30.61856724566394, 32.365388068654035, 11.708196195050308]\n",
      "-------------Part A------------\n",
      "Mean of RMSE: 16.902294289549733\n",
      "Standard Deviation of RMSE: 8.185514279010835\n",
      "Times of Run: 50\n"
     ]
    }
   ],
   "source": [
    "# randomly split the data & train the model for a number of 50 times\n",
    "\n",
    "#rmse = list()\n",
    "RMSE = []\n",
    "for i in range(50):          \n",
    "    \n",
    "    X_train, X_test, y_train, y_test = train_test_split(predictors, target, test_size=0.3)\n",
    "    model = regression_model()\n",
    "    model.fit(X_train, y_train, validation_data=(X_test, y_test), epochs=50, verbose=0)\n",
    "    \n",
    "    pred= model.predict(X_test)\n",
    "    _output = np.sqrt(mean_squared_error(y_test,pred))\n",
    "    \n",
    "    RMSE.append(_output)\n",
    "\n",
    "print(RMSE)\n",
    "print('-------------Part A------------')\n",
    "print('Mean of RMSE:', np.mean(RMSE))\n",
    "print('Standard Deviation of RMSE:', np.std(RMSE))\n",
    "print('Times of Run:', len(RMSE))"
   ]
  },
  {
   "cell_type": "code",
   "execution_count": null,
   "metadata": {},
   "outputs": [],
   "source": [
    "##\n",
    "#for i in range(len(RMSE)):\n",
    "    #print(\"{}the mean square errors are {}\".format(i+1 , RMSE[i]))"
   ]
  },
  {
   "cell_type": "markdown",
   "metadata": {},
   "source": [
    "We got - Mean of RMSE: 16.902 & Standard Deviation of RMSE: 8.186"
   ]
  },
  {
   "cell_type": "markdown",
   "metadata": {},
   "source": [
    "### Part B"
   ]
  },
  {
   "cell_type": "markdown",
   "metadata": {},
   "source": [
    "At this part, we'll normalize the data by substracting the mean and dividing by the standard deviation."
   ]
  },
  {
   "cell_type": "code",
   "execution_count": 20,
   "metadata": {},
   "outputs": [
    {
     "data": {
      "text/html": [
       "<div>\n",
       "<style scoped>\n",
       "    .dataframe tbody tr th:only-of-type {\n",
       "        vertical-align: middle;\n",
       "    }\n",
       "\n",
       "    .dataframe tbody tr th {\n",
       "        vertical-align: top;\n",
       "    }\n",
       "\n",
       "    .dataframe thead th {\n",
       "        text-align: right;\n",
       "    }\n",
       "</style>\n",
       "<table border=\"1\" class=\"dataframe\">\n",
       "  <thead>\n",
       "    <tr style=\"text-align: right;\">\n",
       "      <th></th>\n",
       "      <th>Cement</th>\n",
       "      <th>Blast Furnace Slag</th>\n",
       "      <th>Fly Ash</th>\n",
       "      <th>Water</th>\n",
       "      <th>Superplasticizer</th>\n",
       "      <th>Coarse Aggregate</th>\n",
       "      <th>Fine Aggregate</th>\n",
       "      <th>Age</th>\n",
       "    </tr>\n",
       "  </thead>\n",
       "  <tbody>\n",
       "    <tr>\n",
       "      <th>0</th>\n",
       "      <td>2.476712</td>\n",
       "      <td>-0.856472</td>\n",
       "      <td>-0.846733</td>\n",
       "      <td>-0.916319</td>\n",
       "      <td>-0.620147</td>\n",
       "      <td>0.862735</td>\n",
       "      <td>-1.217079</td>\n",
       "      <td>-0.279597</td>\n",
       "    </tr>\n",
       "    <tr>\n",
       "      <th>1</th>\n",
       "      <td>2.476712</td>\n",
       "      <td>-0.856472</td>\n",
       "      <td>-0.846733</td>\n",
       "      <td>-0.916319</td>\n",
       "      <td>-0.620147</td>\n",
       "      <td>1.055651</td>\n",
       "      <td>-1.217079</td>\n",
       "      <td>-0.279597</td>\n",
       "    </tr>\n",
       "    <tr>\n",
       "      <th>2</th>\n",
       "      <td>0.491187</td>\n",
       "      <td>0.795140</td>\n",
       "      <td>-0.846733</td>\n",
       "      <td>2.174405</td>\n",
       "      <td>-1.038638</td>\n",
       "      <td>-0.526262</td>\n",
       "      <td>-2.239829</td>\n",
       "      <td>3.551340</td>\n",
       "    </tr>\n",
       "    <tr>\n",
       "      <th>3</th>\n",
       "      <td>0.491187</td>\n",
       "      <td>0.795140</td>\n",
       "      <td>-0.846733</td>\n",
       "      <td>2.174405</td>\n",
       "      <td>-1.038638</td>\n",
       "      <td>-0.526262</td>\n",
       "      <td>-2.239829</td>\n",
       "      <td>5.055221</td>\n",
       "    </tr>\n",
       "  </tbody>\n",
       "</table>\n",
       "</div>"
      ],
      "text/plain": [
       "     Cement  Blast Furnace Slag   Fly Ash     Water  Superplasticizer  \\\n",
       "0  2.476712           -0.856472 -0.846733 -0.916319         -0.620147   \n",
       "1  2.476712           -0.856472 -0.846733 -0.916319         -0.620147   \n",
       "2  0.491187            0.795140 -0.846733  2.174405         -1.038638   \n",
       "3  0.491187            0.795140 -0.846733  2.174405         -1.038638   \n",
       "\n",
       "   Coarse Aggregate  Fine Aggregate       Age  \n",
       "0          0.862735       -1.217079 -0.279597  \n",
       "1          1.055651       -1.217079 -0.279597  \n",
       "2         -0.526262       -2.239829  3.551340  \n",
       "3         -0.526262       -2.239829  5.055221  "
      ]
     },
     "execution_count": 20,
     "metadata": {},
     "output_type": "execute_result"
    }
   ],
   "source": [
    "predictors_norm = (predictors - predictors.mean()) / predictors.std()\n",
    "predictors_norm.head(4)"
   ]
  },
  {
   "cell_type": "code",
   "execution_count": 21,
   "metadata": {},
   "outputs": [],
   "source": [
    "# repeat the step as in Part A\n",
    "n_cols = predictors_norm.shape[1] # number of predictors"
   ]
  },
  {
   "cell_type": "code",
   "execution_count": 22,
   "metadata": {},
   "outputs": [],
   "source": [
    "# define a regression model: one hidden layer of 10 nodes and use ReLU activation function\n",
    "\n",
    "def regression_model2():\n",
    "\n",
    "    model = Sequential()\n",
    "    model.add(Dense(10, activation='relu', input_shape=(n_cols,)))\n",
    "    model.add(Dense(1))\n",
    "    \n",
    "    # compile model\n",
    "    model.compile(optimizer='adam', loss='mean_squared_error')\n",
    "    return model"
   ]
  },
  {
   "cell_type": "markdown",
   "metadata": {},
   "source": [
    "Similarly, we put the steps together and train & test the model for a number of 50 times but using normalized data at this time. To evaluate our model, we'll calculate the mean of RMSE."
   ]
  },
  {
   "cell_type": "code",
   "execution_count": 23,
   "metadata": {},
   "outputs": [
    {
     "name": "stdout",
     "output_type": "stream",
     "text": [
      "[18.583063927681096, 17.135096526039714, 18.67859642791842, 21.017707627140005, 23.286909976812645, 18.98258082231753, 16.905363627218705, 23.301660842938315, 18.46122183713074, 22.33059557530496, 17.4926427877145, 19.860766847327174, 17.688842689669467, 18.400883594234937, 15.612978421290663, 16.162932474709734, 24.512067861136156, 26.415069407201898, 17.89354041076253, 18.16284569504621, 17.457724525584304, 22.21290828205874, 21.644044426210478, 16.71810134729673, 20.021714262210484, 29.4602081784468, 22.728428235838354, 21.50610131763676, 15.965612353549005, 20.082865306723214, 17.55157233741699, 17.747125081192085, 15.981399247335546, 18.897274412859886, 18.193211680423534, 19.131792364095897, 17.625658045461094, 17.474962398169918, 17.30646450424493, 16.22496410049844, 18.132431319513234, 19.442400857951306, 20.17685842719881, 26.645157699177087, 23.00079897474266, 18.662568183374294, 16.460494464132026, 25.414920997544154, 19.379692376744064, 22.194587987946832]\n",
      "-------------Part B------------\n",
      "Mean of RMSE: 19.68654822150346\n",
      "Times of Run: 50\n"
     ]
    }
   ],
   "source": [
    "RMSE = []\n",
    "for i in range(50):          \n",
    "    \n",
    "    X_train, X_test, y_train, y_test = train_test_split(predictors_norm, target, test_size=0.3)\n",
    "    model = regression_model2()\n",
    "    model.fit(X_train, y_train, validation_data=(X_test, y_test), epochs=50, verbose=0)\n",
    "    \n",
    "    pred= model.predict(X_test)\n",
    "    _output = np.sqrt(mean_squared_error(y_test,pred))\n",
    "    \n",
    "    RMSE.append(_output)\n",
    "\n",
    "print(RMSE)\n",
    "print('-------------Part B------------')\n",
    "print('Mean of RMSE:', np.mean(RMSE))\n",
    "# print('Standard Deviation of RMSE:', np.std(RMSE))\n",
    "print('Times of Run:', len(RMSE))"
   ]
  },
  {
   "cell_type": "markdown",
   "metadata": {},
   "source": [
    "Compared to 16.902 in Part A, we have the mean of RMSE: 19.687. We can see the mean slightly going up but still not significantly changed when normalizing the data."
   ]
  },
  {
   "cell_type": "markdown",
   "metadata": {},
   "source": [
    "### Part C"
   ]
  },
  {
   "cell_type": "markdown",
   "metadata": {},
   "source": [
    "At this part, we use 100 epochs for training (& testing) at this time and see what is the output for the mean of RMSE."
   ]
  },
  {
   "cell_type": "code",
   "execution_count": 24,
   "metadata": {},
   "outputs": [
    {
     "name": "stdout",
     "output_type": "stream",
     "text": [
      "[13.27464959183036, 12.645953739327657, 13.409508235977071, 12.376877517827266, 11.6894017446621, 12.232659506376006, 15.517954609442363, 13.400551477682582, 13.504539654149944, 13.075969978492695, 12.829706096089353, 13.835160973462855, 12.75838982472191, 13.172105669216934, 12.159682366577877, 12.48740490476878, 13.777131796988995, 15.206055258860461, 12.696301954310071, 12.250726211623588, 13.303453178730996, 13.590993976997542, 12.600752123098927, 12.44858737216601, 11.849640959274314, 13.002734129567004, 12.994392672098856, 13.579878399060648, 13.287437320453561, 12.243643802804367, 12.970121810531268, 12.656488641119914, 11.910620009130927, 14.590310678150562, 11.865435324670065, 13.625248444421086, 12.180042791749099, 13.656398593201086, 12.3330052540298, 12.014729328212558, 11.929166734795606, 12.896000151260644, 12.611554672043995, 11.99604941590147, 12.447450547607746, 12.632954963191622, 12.313516135636707, 13.141936339428106, 11.696248487042471, 13.95139491782283]\n",
      "-------------Part C------------\n",
      "Mean of RMSE: 12.892418365731777\n",
      "Times of Run: 50\n"
     ]
    }
   ],
   "source": [
    "RMSE = []\n",
    "for i in range(50):          \n",
    "    \n",
    "    X_train, X_test, y_train, y_test = train_test_split(predictors_norm, target, test_size=0.3)\n",
    "    model = regression_model2()\n",
    "    model.fit(X_train, y_train, validation_data=(X_test, y_test), epochs=100, verbose=0)\n",
    "    \n",
    "    pred= model.predict(X_test)\n",
    "    _output = np.sqrt(mean_squared_error(y_test,pred))\n",
    "    \n",
    "    RMSE.append(_output)\n",
    "\n",
    "print(RMSE)\n",
    "print('-------------Part C------------')\n",
    "print('Mean of RMSE:', np.mean(RMSE))\n",
    "# print('Standard Deviation of RMSE:', np.std(RMSE))\n",
    "print('Times of Run:', len(RMSE))"
   ]
  },
  {
   "cell_type": "markdown",
   "metadata": {},
   "source": [
    "Compared to 19.687 in Part B, we have the mean of RMSE: 12.892. We can see - increasing the epoch number (which means increasing the passes for forward & backward in the neural network), we have smaller RMSE (the better result)."
   ]
  },
  {
   "cell_type": "markdown",
   "metadata": {},
   "source": [
    "### Part D"
   ]
  },
  {
   "cell_type": "markdown",
   "metadata": {},
   "source": [
    "At this part, we define a new model: 3 hidden layers, each of 10 nodes and use ReLU activation function and see what is the output for the mean of RMSE. "
   ]
  },
  {
   "cell_type": "code",
   "execution_count": 25,
   "metadata": {},
   "outputs": [],
   "source": [
    "# define to a new regression model \n",
    "\n",
    "def rgres_model3():\n",
    "\n",
    "    model = Sequential()\n",
    "    model.add(Dense(10, activation='relu', input_shape=(n_cols,)))\n",
    "    model.add(Dense(10, activation='relu'))\n",
    "    model.add(Dense(10, activation='relu'))\n",
    "    model.add(Dense(1))\n",
    "    \n",
    "    # compile model\n",
    "    model.compile(optimizer='adam', loss='mean_squared_error')\n",
    "    return model"
   ]
  },
  {
   "cell_type": "markdown",
   "metadata": {},
   "source": [
    "Similarly to Part B, we put the steps together and train & test the model for a number of 50 times. To evaluate our model, we'll calculate the mean of RMSE."
   ]
  },
  {
   "cell_type": "code",
   "execution_count": 26,
   "metadata": {},
   "outputs": [
    {
     "name": "stdout",
     "output_type": "stream",
     "text": [
      "[10.407370534957536, 9.212553748387368, 11.931190577813592, 11.394610997886032, 11.433923142757159, 11.440847660568897, 11.684091118175228, 11.374396055025857, 9.429073270072289, 12.251710199937486, 11.577341967750563, 11.292803931348226, 12.070573035310197, 11.680254381131196, 11.226069182784071, 11.496427824580845, 11.76491409543739, 11.136083900232464, 10.810217965081003, 12.794620841300377, 11.855900655954672, 12.345744687171168, 11.563518282815277, 12.077923652479706, 11.37035138392548, 11.581425730470086, 11.59505023533354, 10.860734675729033, 11.184037811130477, 12.90657386792141, 11.685762903318743, 10.192668056994865, 11.40359668090261, 10.513988837813319, 10.335056332948618, 10.59640289008547, 11.096848657089668, 11.815788042874566, 12.777439534919775, 11.862600160631642, 11.592213871947026, 10.025808651571602, 10.11969735016051, 12.185777908999452, 11.805133544899238, 12.508485763465961, 10.734685358788754, 10.80874500715579, 11.144941063767815, 12.114138919054739]\n",
      "-------------Part D------------\n",
      "Mean of RMSE: 11.381402299017175\n",
      "Times of iteration: 50\n"
     ]
    }
   ],
   "source": [
    "RMSE = []\n",
    "for i in range(50):          \n",
    "    \n",
    "    X_train, X_test, y_train, y_test = train_test_split(predictors_norm, target, test_size=0.3)\n",
    "    model = rgres_model3()\n",
    "    model.fit(X_train, y_train, validation_data=(X_test, y_test), epochs=50, verbose=0)\n",
    "    \n",
    "    pred= model.predict(X_test)\n",
    "    _output = np.sqrt(mean_squared_error(y_test,pred))\n",
    "    \n",
    "    RMSE.append(_output)\n",
    "\n",
    "print(RMSE)\n",
    "print('-------------Part D------------')\n",
    "print('Mean of RMSE:', np.mean(RMSE))\n",
    "# print('Standard Deviation of RMSE:', np.std(RMSE))\n",
    "print('Times of iteration:', len(RMSE))"
   ]
  },
  {
   "cell_type": "markdown",
   "metadata": {},
   "source": [
    "Compared to 19.687 in Part B, we have the mean of RMSE: 11.381. We can see - This was the smallest RMSE when compared to the values in the previous parts - By increasing the epoch number and the network layers, we can see an improvement of RMSE. "
   ]
  },
  {
   "cell_type": "markdown",
   "metadata": {},
   "source": [
    "The output above (Part D) shows that the RMSE, which is our evaluation metric, was 11.381 - Ideally, the lower the RMSE value, the better the model performance. But - Keep that in mind, in contrast to accuracy, it is not straightforward to interpret RMSE. "
   ]
  },
  {
   "cell_type": "markdown",
   "metadata": {},
   "source": [
    "Thank you!"
   ]
  },
  {
   "cell_type": "code",
   "execution_count": null,
   "metadata": {},
   "outputs": [],
   "source": []
  }
 ],
 "metadata": {
  "kernelspec": {
   "display_name": "Python 3",
   "language": "python",
   "name": "python3"
  },
  "language_info": {
   "codemirror_mode": {
    "name": "ipython",
    "version": 3
   },
   "file_extension": ".py",
   "mimetype": "text/x-python",
   "name": "python",
   "nbconvert_exporter": "python",
   "pygments_lexer": "ipython3",
   "version": "3.7.3"
  }
 },
 "nbformat": 4,
 "nbformat_minor": 4
}
